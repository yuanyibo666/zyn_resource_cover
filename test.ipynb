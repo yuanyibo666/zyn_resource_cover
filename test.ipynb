{
  "nbformat": 4,
  "nbformat_minor": 0,
  "metadata": {
    "colab": {
      "name": "test.ipynb",
      "provenance": [],
      "mount_file_id": "1p0TM7WP7basehPd2l8oUdWP-2QWsdLoC",
      "authorship_tag": "ABX9TyM6uty7FFPujDui4m4TJdyM",
      "include_colab_link": true
    },
    "kernelspec": {
      "name": "python3",
      "display_name": "Python 3"
    },
    "language_info": {
      "name": "python"
    }
  },
  "cells": [
    {
      "cell_type": "markdown",
      "metadata": {
        "id": "view-in-github",
        "colab_type": "text"
      },
      "source": [
        "<a href=\"https://colab.research.google.com/github/yuanyibo666/zyn_resource_cover/blob/main/test.ipynb\" target=\"_parent\"><img src=\"https://colab.research.google.com/assets/colab-badge.svg\" alt=\"Open In Colab\"/></a>"
      ]
    },
    {
      "cell_type": "code",
      "execution_count": 1,
      "metadata": {
        "colab": {
          "base_uri": "https://localhost:8080/"
        },
        "id": "dCd1_-yb0_xy",
        "outputId": "729cc0fe-837e-4f14-be6a-c9c2946c01b9"
      },
      "outputs": [
        {
          "output_type": "stream",
          "name": "stdout",
          "text": [
            "Google就是我亲爹\n"
          ]
        }
      ],
      "source": [
        "print(\"Google就是我亲爹\")"
      ]
    }
  ]
}